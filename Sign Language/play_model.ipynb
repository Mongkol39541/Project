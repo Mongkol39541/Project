{
 "cells": [
  {
   "cell_type": "code",
   "execution_count": 3,
   "metadata": {},
   "outputs": [],
   "source": [
    "import cv2\n",
    "from tensorflow.keras.models import load_model\n",
    "import numpy as np"
   ]
  },
  {
   "cell_type": "code",
   "execution_count": 4,
   "metadata": {},
   "outputs": [
    {
     "data": {
      "text/plain": [
       "<keras.engine.sequential.Sequential at 0x150dd3d3ac0>"
      ]
     },
     "execution_count": 4,
     "metadata": {},
     "output_type": "execute_result"
    }
   ],
   "source": [
    "model = load_model('data_model/abc_model.h5')\n",
    "model"
   ]
  },
  {
   "cell_type": "code",
   "execution_count": 15,
   "metadata": {},
   "outputs": [],
   "source": [
    "def tran(z_predict):\n",
    "    if z_predict[0][0] >= 0.8:\n",
    "        return \"A\"\n",
    "    elif z_predict[0][1] >= 0.8:\n",
    "        return \"B\"\n",
    "    elif z_predict[0][2] >= 0.8:\n",
    "        return \"C\"\n",
    "    elif z_predict[0][3] >= 0.8:\n",
    "        return \"D\"\n",
    "    elif z_predict[0][4] >= 0.8:\n",
    "        return \"E\"\n",
    "    elif z_predict[0][5] >= 0.8:\n",
    "        return \"F\"\n",
    "    elif z_predict[0][6] >= 0.8:\n",
    "        return \"G\"\n",
    "    elif z_predict[0][7] >= 0.8:\n",
    "        return \"H\"\n",
    "    elif z_predict[0][8] >= 0.8:\n",
    "        return \"I\"\n",
    "    elif z_predict[0][9] >= 0.8:\n",
    "        return \"J\"\n",
    "    elif z_predict[0][10] >= 0.8:\n",
    "        return \"K\"\n",
    "    elif z_predict[0][11] >= 0.8:\n",
    "        return \"L\"\n",
    "    elif z_predict[0][12] >= 0.8:\n",
    "        return \"M\"\n",
    "    elif z_predict[0][13] >= 0.8:\n",
    "        return \"N\"\n",
    "    elif z_predict[0][14] >= 0.8:\n",
    "        return \"O\"\n",
    "    elif z_predict[0][15] >= 0.8:\n",
    "        return \"P\"\n",
    "    elif z_predict[0][16] >= 0.8:\n",
    "        return \"Q\"\n",
    "    elif z_predict[0][17] >= 0.8:\n",
    "        return \"R\"\n",
    "    elif z_predict[0][18] >= 0.8:\n",
    "        return \"S\"\n",
    "    elif z_predict[0][19] >= 0.8:\n",
    "        return \"T\"\n",
    "    elif z_predict[0][20] >= 0.8:\n",
    "        return \"U\"\n",
    "    elif z_predict[0][21] >= 0.8:\n",
    "        return \"V\"\n",
    "    elif z_predict[0][22] >= 0.8:\n",
    "        return \"W\"\n",
    "    elif z_predict[0][23] >= 0.8:\n",
    "        return \"X\"\n",
    "    elif z_predict[0][24] >= 0.8:\n",
    "        return \"Y\"\n",
    "    elif z_predict[0][25] >= 0.8:\n",
    "        return \"Z\"\n",
    "    else:\n",
    "        return \"Do Not Know\"\n"
   ]
  },
  {
   "cell_type": "code",
   "execution_count": 23,
   "metadata": {},
   "outputs": [
    {
     "name": "stdout",
     "output_type": "stream",
     "text": [
      "1/1 [==============================] - 0s 164ms/step\n",
      "1/1 [==============================] - 0s 190ms/step\n",
      "1/1 [==============================] - 0s 126ms/step\n",
      "1/1 [==============================] - 0s 168ms/step\n",
      "1/1 [==============================] - 0s 119ms/step\n",
      "1/1 [==============================] - 0s 88ms/step\n",
      "1/1 [==============================] - 0s 98ms/step\n",
      "1/1 [==============================] - 0s 120ms/step\n",
      "1/1 [==============================] - 0s 226ms/step\n",
      "1/1 [==============================] - 0s 155ms/step\n",
      "1/1 [==============================] - 0s 162ms/step\n",
      "1/1 [==============================] - 0s 149ms/step\n",
      "1/1 [==============================] - 0s 141ms/step\n",
      "1/1 [==============================] - 0s 112ms/step\n",
      "1/1 [==============================] - 0s 71ms/step\n",
      "1/1 [==============================] - 0s 150ms/step\n",
      "1/1 [==============================] - 0s 114ms/step\n",
      "1/1 [==============================] - 0s 107ms/step\n",
      "1/1 [==============================] - 0s 120ms/step\n",
      "1/1 [==============================] - 0s 139ms/step\n",
      "1/1 [==============================] - 0s 253ms/step\n",
      "1/1 [==============================] - 0s 151ms/step\n",
      "1/1 [==============================] - 0s 147ms/step\n",
      "1/1 [==============================] - 0s 221ms/step\n",
      "1/1 [==============================] - 0s 118ms/step\n",
      "1/1 [==============================] - 0s 135ms/step\n",
      "1/1 [==============================] - 0s 137ms/step\n",
      "1/1 [==============================] - 0s 95ms/step\n",
      "1/1 [==============================] - 0s 168ms/step\n",
      "1/1 [==============================] - 0s 127ms/step\n",
      "1/1 [==============================] - 0s 198ms/step\n",
      "1/1 [==============================] - 0s 126ms/step\n",
      "1/1 [==============================] - 0s 203ms/step\n",
      "1/1 [==============================] - 0s 108ms/step\n",
      "1/1 [==============================] - 0s 94ms/step\n",
      "1/1 [==============================] - 0s 132ms/step\n",
      "1/1 [==============================] - 0s 161ms/step\n",
      "1/1 [==============================] - 0s 192ms/step\n",
      "1/1 [==============================] - 0s 157ms/step\n",
      "1/1 [==============================] - 0s 117ms/step\n",
      "1/1 [==============================] - 0s 82ms/step\n",
      "1/1 [==============================] - 0s 90ms/step\n",
      "1/1 [==============================] - 0s 215ms/step\n",
      "1/1 [==============================] - 0s 180ms/step\n",
      "1/1 [==============================] - 0s 94ms/step\n",
      "1/1 [==============================] - 0s 106ms/step\n",
      "1/1 [==============================] - 0s 202ms/step\n",
      "1/1 [==============================] - 0s 167ms/step\n",
      "1/1 [==============================] - 0s 65ms/step\n",
      "1/1 [==============================] - 0s 144ms/step\n",
      "1/1 [==============================] - 0s 196ms/step\n",
      "1/1 [==============================] - 0s 109ms/step\n",
      "1/1 [==============================] - 0s 95ms/step\n",
      "1/1 [==============================] - 0s 92ms/step\n",
      "1/1 [==============================] - 0s 63ms/step\n",
      "1/1 [==============================] - 0s 72ms/step\n",
      "1/1 [==============================] - 0s 160ms/step\n",
      "1/1 [==============================] - 0s 135ms/step\n",
      "1/1 [==============================] - 0s 114ms/step\n"
     ]
    }
   ],
   "source": [
    "cap = cv2.VideoCapture(0)\n",
    "\n",
    "while True:\n",
    "    _, frame = cap.read()\n",
    "    cv2.rectangle(frame, (0, 0), (256, 256), (255, 255, 255), 2)\n",
    "    img = cv2.cvtColor(frame[:256, :256], cv2.COLOR_RGB2GRAY)\n",
    "    img = cv2.resize(img,(128, 128))\n",
    "    img = img.reshape(1, 128, 128, 1).astype(\"float32\")\n",
    "    z_predict = model.predict(img)\n",
    "    name = tran(z_predict)\n",
    "    cv2.putText(frame, name, (128, 300), cv2.FONT_HERSHEY_SIMPLEX, 0.8, (0,255,0), 2)\n",
    "    cv2.imshow(\"data\", frame)\n",
    "    cv2.imshow(\"ROI\", frame[:256, :256])\n",
    "    if ord('q') == 0xFF & cv2.waitKey(1):\n",
    "        break\n",
    "\n",
    "cap.release()\n",
    "cv2.destroyAllWindows()"
   ]
  }
 ],
 "metadata": {
  "kernelspec": {
   "display_name": "Python 3",
   "language": "python",
   "name": "python3"
  },
  "language_info": {
   "codemirror_mode": {
    "name": "ipython",
    "version": 3
   },
   "file_extension": ".py",
   "mimetype": "text/x-python",
   "name": "python",
   "nbconvert_exporter": "python",
   "pygments_lexer": "ipython3",
   "version": "3.10.8"
  },
  "orig_nbformat": 4,
  "vscode": {
   "interpreter": {
    "hash": "fd6d6cb290673ab90f7eabfbb5e0872757dd79fe611a96b9ca3462dfc1ba1bf5"
   }
  }
 },
 "nbformat": 4,
 "nbformat_minor": 2
}
