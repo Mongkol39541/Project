{
 "cells": [
  {
   "cell_type": "code",
   "execution_count": 1,
   "metadata": {},
   "outputs": [],
   "source": [
    "import numpy as np\n",
    "import matplotlib.pyplot as plt\n",
    "import pandas as pd\n",
    "import cv2"
   ]
  },
  {
   "cell_type": "code",
   "execution_count": 14,
   "metadata": {},
   "outputs": [],
   "source": [
    "data_num = []"
   ]
  },
  {
   "cell_type": "code",
   "execution_count": 15,
   "metadata": {},
   "outputs": [],
   "source": [
    "for img in range(0, 800):\n",
    "    image = cv2.imread('Indian/A/{0}.jpg'.format(img))\n",
    "    image = cv2.cvtColor(image, cv2.COLOR_RGB2GRAY)\n",
    "    data_num.append(image)\n",
    "\n",
    "for img in range(0, 800):\n",
    "    image = cv2.imread('Indian/B/{0}.jpg'.format(img))\n",
    "    image = cv2.cvtColor(image, cv2.COLOR_RGB2GRAY)\n",
    "    data_num.append(image)\n",
    "\n",
    "for img in range(0, 800):\n",
    "    image = cv2.imread('Indian/C/{0}.jpg'.format(img))\n",
    "    image = cv2.cvtColor(image, cv2.COLOR_RGB2GRAY)\n",
    "    data_num.append(image)\n",
    "\n",
    "for img in range(0, 800):\n",
    "    image = cv2.imread('Indian/D/{0}.jpg'.format(img))\n",
    "    image = cv2.cvtColor(image, cv2.COLOR_RGB2GRAY)\n",
    "    data_num.append(image)\n",
    "\n",
    "for img in range(0, 800):\n",
    "    image = cv2.imread('Indian/E/{0}.jpg'.format(img))\n",
    "    image = cv2.cvtColor(image, cv2.COLOR_RGB2GRAY)\n",
    "    data_num.append(image)\n",
    "\n",
    "for img in range(0, 800):\n",
    "    image = cv2.imread('Indian/F/{0}.jpg'.format(img))\n",
    "    image = cv2.cvtColor(image, cv2.COLOR_RGB2GRAY)\n",
    "    data_num.append(image)\n",
    "\n",
    "for img in range(0, 800):\n",
    "    image = cv2.imread('Indian/G/{0}.jpg'.format(img))\n",
    "    image = cv2.cvtColor(image, cv2.COLOR_RGB2GRAY)\n",
    "    data_num.append(image)\n",
    "\n",
    "for img in range(0, 800):\n",
    "    image = cv2.imread('Indian/H/{0}.jpg'.format(img))\n",
    "    image = cv2.cvtColor(image, cv2.COLOR_RGB2GRAY)\n",
    "    data_num.append(image)\n",
    "\n",
    "for img in range(0, 800):\n",
    "    image = cv2.imread('Indian/I/{0}.jpg'.format(img))\n",
    "    image = cv2.cvtColor(image, cv2.COLOR_RGB2GRAY)\n",
    "    data_num.append(image)\n",
    "\n",
    "for img in range(0, 800):\n",
    "    image = cv2.imread('Indian/J/{0}.jpg'.format(img))\n",
    "    image = cv2.cvtColor(image, cv2.COLOR_RGB2GRAY)\n",
    "    data_num.append(image)\n",
    "\n",
    "for img in range(0, 800):\n",
    "    image = cv2.imread('Indian/K/{0}.jpg'.format(img))\n",
    "    image = cv2.cvtColor(image, cv2.COLOR_RGB2GRAY)\n",
    "    data_num.append(image)\n",
    "\n",
    "for img in range(0, 800):\n",
    "    image = cv2.imread('Indian/L/{0}.jpg'.format(img))\n",
    "    image = cv2.cvtColor(image, cv2.COLOR_RGB2GRAY)\n",
    "    data_num.append(image)\n",
    "\n",
    "for img in range(0, 800):\n",
    "    image = cv2.imread('Indian/M/{0}.jpg'.format(img))\n",
    "    image = cv2.cvtColor(image, cv2.COLOR_RGB2GRAY)\n",
    "    data_num.append(image)\n",
    "\n",
    "for img in range(0, 800):\n",
    "    image = cv2.imread('Indian/N/{0}.jpg'.format(img))\n",
    "    image = cv2.cvtColor(image, cv2.COLOR_RGB2GRAY)\n",
    "    data_num.append(image)\n",
    "\n",
    "for img in range(0, 800):\n",
    "    image = cv2.imread('Indian/O/{0}.jpg'.format(img))\n",
    "    image = cv2.cvtColor(image, cv2.COLOR_RGB2GRAY)\n",
    "    data_num.append(image)\n",
    "\n",
    "for img in range(0, 800):\n",
    "    image = cv2.imread('Indian/P/{0}.jpg'.format(img))\n",
    "    image = cv2.cvtColor(image, cv2.COLOR_RGB2GRAY)\n",
    "    data_num.append(image)\n",
    "\n",
    "for img in range(0, 800):\n",
    "    image = cv2.imread('Indian/Q/{0}.jpg'.format(img))\n",
    "    image = cv2.cvtColor(image, cv2.COLOR_RGB2GRAY)\n",
    "    data_num.append(image)\n",
    "\n",
    "for img in range(0, 800):\n",
    "    image = cv2.imread('Indian/R/{0}.jpg'.format(img))\n",
    "    image = cv2.cvtColor(image, cv2.COLOR_RGB2GRAY)\n",
    "    data_num.append(image)\n",
    "\n",
    "for img in range(0, 800):\n",
    "    image = cv2.imread('Indian/S/{0}.jpg'.format(img))\n",
    "    image = cv2.cvtColor(image, cv2.COLOR_RGB2GRAY)\n",
    "    data_num.append(image)\n",
    "\n",
    "for img in range(0, 800):\n",
    "    image = cv2.imread('Indian/T/{0}.jpg'.format(img))\n",
    "    image = cv2.cvtColor(image, cv2.COLOR_RGB2GRAY)\n",
    "    data_num.append(image)\n",
    "\n",
    "for img in range(0, 800):\n",
    "    image = cv2.imread('Indian/U/{0}.jpg'.format(img))\n",
    "    image = cv2.cvtColor(image, cv2.COLOR_RGB2GRAY)\n",
    "    data_num.append(image)\n",
    "\n",
    "for img in range(0, 800):\n",
    "    image = cv2.imread('Indian/V/{0}.jpg'.format(img))\n",
    "    image = cv2.cvtColor(image, cv2.COLOR_RGB2GRAY)\n",
    "    data_num.append(image)\n",
    "\n",
    "for img in range(0, 800):\n",
    "    image = cv2.imread('Indian/W/{0}.jpg'.format(img))\n",
    "    image = cv2.cvtColor(image, cv2.COLOR_RGB2GRAY)\n",
    "    data_num.append(image)\n",
    "\n",
    "for img in range(0, 800):\n",
    "    image = cv2.imread('Indian/X/{0}.jpg'.format(img))\n",
    "    image = cv2.cvtColor(image, cv2.COLOR_RGB2GRAY)\n",
    "    data_num.append(image)\n",
    "\n",
    "for img in range(0, 800):\n",
    "    image = cv2.imread('Indian/Y/{0}.jpg'.format(img))\n",
    "    image = cv2.cvtColor(image, cv2.COLOR_RGB2GRAY)\n",
    "    data_num.append(image)\n",
    "\n",
    "for img in range(0, 800):\n",
    "    image = cv2.imread('Indian/Z/{0}.jpg'.format(img))\n",
    "    image = cv2.cvtColor(image, cv2.COLOR_RGB2GRAY)\n",
    "    data_num.append(image)"
   ]
  },
  {
   "cell_type": "code",
   "execution_count": 16,
   "metadata": {},
   "outputs": [
    {
     "name": "stdout",
     "output_type": "stream",
     "text": [
      "(20800, 128, 128)\n"
     ]
    },
    {
     "data": {
      "text/plain": [
       "array([14, 17, 17, ..., 38, 36, 53], dtype=uint8)"
      ]
     },
     "execution_count": 16,
     "metadata": {},
     "output_type": "execute_result"
    }
   ],
   "source": [
    "data_num = np.array(data_num)\n",
    "print(data_num.shape)\n",
    "data_num[0].flatten()"
   ]
  },
  {
   "cell_type": "code",
   "execution_count": 17,
   "metadata": {},
   "outputs": [
    {
     "ename": "KeyboardInterrupt",
     "evalue": "",
     "output_type": "error",
     "traceback": [
      "\u001b[1;31m---------------------------------------------------------------------------\u001b[0m",
      "\u001b[1;31mKeyboardInterrupt\u001b[0m                         Traceback (most recent call last)",
      "Cell \u001b[1;32mIn [17], line 4\u001b[0m\n\u001b[0;32m      1\u001b[0m arr \u001b[39m=\u001b[39m np\u001b[39m.\u001b[39marray([data_num[\u001b[39m0\u001b[39m]\u001b[39m.\u001b[39mflatten()\u001b[39m.\u001b[39mastype(\u001b[39m\"\u001b[39m\u001b[39mint32\u001b[39m\u001b[39m\"\u001b[39m)])\n\u001b[0;32m      3\u001b[0m \u001b[39mfor\u001b[39;00m data \u001b[39min\u001b[39;00m data_num[\u001b[39m1\u001b[39m:]:\n\u001b[1;32m----> 4\u001b[0m     data \u001b[39m=\u001b[39m data\u001b[39m.\u001b[39;49mflatten()\u001b[39m.\u001b[39mastype(\u001b[39m\"\u001b[39m\u001b[39mint32\u001b[39m\u001b[39m\"\u001b[39m)\n\u001b[0;32m      5\u001b[0m     arr \u001b[39m=\u001b[39m np\u001b[39m.\u001b[39mappend(arr, [data], axis\u001b[39m=\u001b[39m\u001b[39m0\u001b[39m)\n\u001b[0;32m      7\u001b[0m arr\u001b[39m.\u001b[39mshape\n",
      "\u001b[1;31mKeyboardInterrupt\u001b[0m: "
     ]
    }
   ],
   "source": [
    "arr = np.array([data_num[0].flatten().astype(\"int32\")])\n",
    "\n",
    "for data in data_num[1:]:\n",
    "    data = data.flatten().astype(\"int32\")\n",
    "    arr = np.append(arr, [data], axis=0)\n",
    "\n",
    "arr.shape"
   ]
  },
  {
   "cell_type": "code",
   "execution_count": 68,
   "metadata": {},
   "outputs": [
    {
     "data": {
      "text/plain": [
       "array([[253, 253, 253, ..., 250, 251, 251],\n",
       "       [254, 253, 254, ..., 244, 243, 244],\n",
       "       [253, 254, 253, ..., 250, 250, 251],\n",
       "       ...,\n",
       "       [253, 253, 253, ..., 250, 251, 250],\n",
       "       [253, 253, 253, ..., 251, 251, 249],\n",
       "       [253, 253, 253, ..., 251, 251, 251]])"
      ]
     },
     "execution_count": 68,
     "metadata": {},
     "output_type": "execute_result"
    }
   ],
   "source": [
    "arr"
   ]
  },
  {
   "cell_type": "code",
   "execution_count": 73,
   "metadata": {},
   "outputs": [],
   "source": [
    "data = {'label': []}\n",
    "\n",
    "for loop in range(arr.shape[1]):\n",
    "    data['pixel{0}'.format(loop + 1)] = arr.T[loop]"
   ]
  },
  {
   "cell_type": "code",
   "execution_count": 76,
   "metadata": {},
   "outputs": [],
   "source": [
    "for num in range(26):\n",
    "    for loop in range(800):\n",
    "        data['label'].append(num)"
   ]
  },
  {
   "cell_type": "code",
   "execution_count": 77,
   "metadata": {},
   "outputs": [
    {
     "data": {
      "text/plain": [
       "(33, 90001)"
      ]
     },
     "execution_count": 77,
     "metadata": {},
     "output_type": "execute_result"
    }
   ],
   "source": [
    "data = pd.DataFrame(data)\n",
    "data.shape"
   ]
  },
  {
   "cell_type": "code",
   "execution_count": 78,
   "metadata": {},
   "outputs": [],
   "source": [
    "data.to_csv(\"validationdata/validation.csv\", index=False)"
   ]
  }
 ],
 "metadata": {
  "kernelspec": {
   "display_name": "Python 3",
   "language": "python",
   "name": "python3"
  },
  "language_info": {
   "codemirror_mode": {
    "name": "ipython",
    "version": 3
   },
   "file_extension": ".py",
   "mimetype": "text/x-python",
   "name": "python",
   "nbconvert_exporter": "python",
   "pygments_lexer": "ipython3",
   "version": "3.10.8"
  },
  "orig_nbformat": 4,
  "vscode": {
   "interpreter": {
    "hash": "fd6d6cb290673ab90f7eabfbb5e0872757dd79fe611a96b9ca3462dfc1ba1bf5"
   }
  }
 },
 "nbformat": 4,
 "nbformat_minor": 2
}
