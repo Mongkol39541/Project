{
 "cells": [
  {
   "cell_type": "code",
   "execution_count": 28,
   "metadata": {},
   "outputs": [],
   "source": [
    "import numpy as np\n",
    "import matplotlib.pyplot as plt\n",
    "import pandas as pd\n",
    "import cv2"
   ]
  },
  {
   "cell_type": "code",
   "execution_count": 65,
   "metadata": {},
   "outputs": [],
   "source": [
    "data_num = []\n",
    "\n",
    "for img in range(1, 12):\n",
    "    image = cv2.imread('validationdata/paper/paper ({0}).png'.format(img))\n",
    "    image = cv2.cvtColor(image, cv2.COLOR_RGB2GRAY)\n",
    "    data_num.append(image)\n",
    "\n",
    "for img in range(1, 12):\n",
    "    image = cv2.imread('validationdata/rock/rock ({0}).png'.format(img))\n",
    "    image = cv2.cvtColor(image, cv2.COLOR_RGB2GRAY)\n",
    "    data_num.append(image)\n",
    "\n",
    "for img in range(1, 12):\n",
    "    image = cv2.imread('validationdata/scissors/scissors ({0}).png'.format(img))\n",
    "    image = cv2.cvtColor(image, cv2.COLOR_RGB2GRAY)\n",
    "    data_num.append(image)"
   ]
  },
  {
   "cell_type": "code",
   "execution_count": 66,
   "metadata": {},
   "outputs": [
    {
     "name": "stdout",
     "output_type": "stream",
     "text": [
      "(33, 300, 300)\n"
     ]
    },
    {
     "data": {
      "text/plain": [
       "array([253, 253, 253, ..., 250, 251, 251], dtype=uint8)"
      ]
     },
     "execution_count": 66,
     "metadata": {},
     "output_type": "execute_result"
    }
   ],
   "source": [
    "data_num = np.array(data_num)\n",
    "print(data_num.shape)\n",
    "data_num[0].flatten()"
   ]
  },
  {
   "cell_type": "code",
   "execution_count": 67,
   "metadata": {},
   "outputs": [
    {
     "data": {
      "text/plain": [
       "(33, 90000)"
      ]
     },
     "execution_count": 67,
     "metadata": {},
     "output_type": "execute_result"
    }
   ],
   "source": [
    "arr = np.array([data_num[0].flatten().astype(\"int32\")])\n",
    "\n",
    "for data in data_num[1:]:\n",
    "    data = data.flatten().astype(\"int32\")\n",
    "    arr = np.append(arr, [data], axis=0)\n",
    "\n",
    "arr.shape"
   ]
  },
  {
   "cell_type": "code",
   "execution_count": 68,
   "metadata": {},
   "outputs": [
    {
     "data": {
      "text/plain": [
       "array([[253, 253, 253, ..., 250, 251, 251],\n",
       "       [254, 253, 254, ..., 244, 243, 244],\n",
       "       [253, 254, 253, ..., 250, 250, 251],\n",
       "       ...,\n",
       "       [253, 253, 253, ..., 250, 251, 250],\n",
       "       [253, 253, 253, ..., 251, 251, 249],\n",
       "       [253, 253, 253, ..., 251, 251, 251]])"
      ]
     },
     "execution_count": 68,
     "metadata": {},
     "output_type": "execute_result"
    }
   ],
   "source": [
    "arr"
   ]
  },
  {
   "cell_type": "code",
   "execution_count": 73,
   "metadata": {},
   "outputs": [],
   "source": [
    "data = {'label': []}\n",
    "\n",
    "for loop in range(arr.shape[1]):\n",
    "    data['pixel{0}'.format(loop + 1)] = arr.T[loop]"
   ]
  },
  {
   "cell_type": "code",
   "execution_count": 76,
   "metadata": {},
   "outputs": [],
   "source": [
    "for loop in range(22, 33):\n",
    "    data['label'].append(2)"
   ]
  },
  {
   "cell_type": "code",
   "execution_count": 77,
   "metadata": {},
   "outputs": [
    {
     "data": {
      "text/plain": [
       "(33, 90001)"
      ]
     },
     "execution_count": 77,
     "metadata": {},
     "output_type": "execute_result"
    }
   ],
   "source": [
    "data = pd.DataFrame(data)\n",
    "data.shape"
   ]
  },
  {
   "cell_type": "code",
   "execution_count": 78,
   "metadata": {},
   "outputs": [],
   "source": [
    "data.to_csv(\"validationdata/validation.csv\", index=False)"
   ]
  }
 ],
 "metadata": {
  "kernelspec": {
   "display_name": "Python 3",
   "language": "python",
   "name": "python3"
  },
  "language_info": {
   "codemirror_mode": {
    "name": "ipython",
    "version": 3
   },
   "file_extension": ".py",
   "mimetype": "text/x-python",
   "name": "python",
   "nbconvert_exporter": "python",
   "pygments_lexer": "ipython3",
   "version": "3.10.8"
  },
  "orig_nbformat": 4,
  "vscode": {
   "interpreter": {
    "hash": "fd6d6cb290673ab90f7eabfbb5e0872757dd79fe611a96b9ca3462dfc1ba1bf5"
   }
  }
 },
 "nbformat": 4,
 "nbformat_minor": 2
}
