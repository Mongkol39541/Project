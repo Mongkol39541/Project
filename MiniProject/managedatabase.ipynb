{
 "cells": [
  {
   "cell_type": "code",
   "execution_count": 9,
   "metadata": {},
   "outputs": [],
   "source": [
    "import pandas as pd\n",
    "import numpy as np\n",
    "import sqlite3\n",
    "from calculatePhone import phonenumber\n",
    "from calculateCar import carnumber, percarnumber"
   ]
  },
  {
   "cell_type": "code",
   "execution_count": 10,
   "metadata": {},
   "outputs": [],
   "source": [
    "conn = sqlite3.connect('instance/mystatement.db')\n",
    "cursor = conn.execute(\"SELECT id,name,password,image,phone,car,date,house,sumphone,sumhouse,mesphone,mescar,mesday,mesmonth,meshouse,double_num,mean_duo_af,category,positive_resultphone,negative_resultphone,positive_resultcar,negative_resultcar,total_positive  from statement\")"
   ]
  },
  {
   "cell_type": "code",
   "execution_count": 11,
   "metadata": {},
   "outputs": [
    {
     "data": {
      "text/plain": [
       "349.33"
      ]
     },
     "execution_count": 11,
     "metadata": {},
     "output_type": "execute_result"
    }
   ],
   "source": [
    "datafame = pd.read_csv('phone.csv')\n",
    "datafame = pd.DataFrame(datafame[:1000])\n",
    "datafame['PriceUSD'][0]"
   ]
  },
  {
   "cell_type": "code",
   "execution_count": 12,
   "metadata": {},
   "outputs": [],
   "source": [
    "id = 0\n",
    "for item in datafame['Phone']:\n",
    "    password = ['abc123', '25jft7', 'devh9', '159fsg', '258dgr']\n",
    "    profile = ['astronaut', 'charizard', 'pngtree', 'shiba', 'ninja']\n",
    "    car = ['บร1599', 'ขษจ427', 'ขนธ134', 'บธ3626', 'กช7360', 'มง861', 'กฉ1047', 'บบ7623', 'กฉว488', 'ศข428']\n",
    "    date_1 = np.random.randint(31, size=(1, 1))\n",
    "    date_2 = np.random.randint(12, size=(1, 1))\n",
    "    date = str(date_1[0][0] + 1) + \"/\" + str(date_2[0][0] + 1)\n",
    "    house_1 = np.random.randint(10, size=(1, 2))\n",
    "    house_2 = np.random.randint(10, size=(1, 2))\n",
    "    house = str(house_1[0][0]) + str(house_1[0][1]) + \"/\" + str(house_2[0][0]) + str(house_2[0][1])\n",
    "    randpassword = np.random.choice(password, 1, p=[0.2, 0.2, 0.2, 0.2, 0.2])\n",
    "    randprofile = np.random.choice(profile, 1, p=[0.2, 0.2, 0.2, 0.2, 0.2])\n",
    "    price = datafame['PriceUSD'][id] // 30\n",
    "    randcar = np.random.choice(car, 1, p=[0.1, 0.1, 0.1, 0.1, 0.1, 0.1, 0.1, 0.1, 0.1, 0.1])\n",
    "    id += 1\n",
    "    total, mean_num, sum_percent, insum_percent, double_num, mean_duo_af, category = phonenumber(item[:10])\n",
    "    mescar = carnumber(randcar[0])\n",
    "    positive_resultcar, negative_resultcar = percarnumber(randcar[0])\n",
    "    conn.execute(\"INSERT INTO statement (id,name,password,image,phone,price,car,date,house,sumphone,sumhouse,mesphone,mescar,mesday,mesmonth,meshouse,double_num,mean_duo_af,category,positive_resultphone,negative_resultphone,positive_resultcar,negative_resultcar,total_positive) \\\n",
    "         VALUES ({0}, 'User_{1}', '{2}', '{3}.jpg', '{4}', {5}, '{6}', '{7}', '{8}', '{9}', '', '{10}', '{11}', '', '', '', '{12}', '{13}', '{14}', {15}, {16}, {17}, {18}, {19})\".format(id, id, randpassword[0], randprofile[0], item[:10], price, randcar[0], date, house, total, mean_num, mescar, double_num, mean_duo_af, category, sum_percent, insum_percent, positive_resultcar, negative_resultcar, (sum_percent + positive_resultcar) / 2))\n",
    "conn.commit()\n",
    "conn.close() "
   ]
  }
 ],
 "metadata": {
  "kernelspec": {
   "display_name": "Python 3",
   "language": "python",
   "name": "python3"
  },
  "language_info": {
   "codemirror_mode": {
    "name": "ipython",
    "version": 3
   },
   "file_extension": ".py",
   "mimetype": "text/x-python",
   "name": "python",
   "nbconvert_exporter": "python",
   "pygments_lexer": "ipython3",
   "version": "3.7.9"
  },
  "orig_nbformat": 4,
  "vscode": {
   "interpreter": {
    "hash": "822993cc2de8065dd07929654093e8c6598914b15835bcfeccbcac84530d789c"
   }
  }
 },
 "nbformat": 4,
 "nbformat_minor": 2
}
