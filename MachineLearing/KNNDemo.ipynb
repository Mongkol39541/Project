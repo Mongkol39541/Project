{
 "cells": [
  {
   "cell_type": "code",
   "execution_count": 30,
   "metadata": {},
   "outputs": [
    {
     "name": "stdout",
     "output_type": "stream",
     "text": [
      "ผลการพยากรณ์ :  [2 1 0 2 0 2 0 1 1 1 2 1 1 1 1 0 1 1 0 0 2 1 0 0 1 0 0 1 1 0 2 1 0 2 2 1 0\n",
      " 2 1 1 2 0 2 0 0 1 2 2 2 2 1 2 1 1 2 2 1 2 1 2]\n",
      "อยู่ในกลุ่มสายพันธุ์ :  ['virginica' 'versicolor' 'setosa' 'virginica' 'setosa' 'virginica'\n",
      " 'setosa' 'versicolor' 'versicolor' 'versicolor' 'virginica' 'versicolor'\n",
      " 'versicolor' 'versicolor' 'versicolor' 'setosa' 'versicolor' 'versicolor'\n",
      " 'setosa' 'setosa' 'virginica' 'versicolor' 'setosa' 'setosa' 'versicolor'\n",
      " 'setosa' 'setosa' 'versicolor' 'versicolor' 'setosa' 'virginica'\n",
      " 'versicolor' 'setosa' 'virginica' 'virginica' 'versicolor' 'setosa'\n",
      " 'virginica' 'versicolor' 'versicolor' 'virginica' 'setosa' 'virginica'\n",
      " 'setosa' 'setosa' 'versicolor' 'virginica' 'virginica' 'virginica'\n",
      " 'virginica' 'versicolor' 'virginica' 'versicolor' 'versicolor'\n",
      " 'virginica' 'virginica' 'versicolor' 'virginica' 'versicolor' 'virginica']\n"
     ]
    }
   ],
   "source": [
    "from sklearn.datasets import load_iris\n",
    "from sklearn.model_selection import train_test_split\n",
    "from sklearn.neighbors import KNeighborsClassifier\n",
    "from sklearn.metrics import classification_report,accuracy_score\n",
    "\n",
    "iris_dataset = load_iris()\n",
    "x_train,x_test,y_train,y_test = train_test_split(iris_dataset[\"data\"],iris_dataset[\"target\"],test_size=0.4,random_state=0)\n",
    "\n",
    "#Model\n",
    "knn = KNeighborsClassifier(n_neighbors=5)\n",
    "\n",
    "#training\n",
    "knn.fit(x_train,y_train)\n",
    "\n",
    "#prediction\n",
    "pred = knn.predict(x_test)\n",
    "\n",
    "print(\"ผลการพยากรณ์ : \",pred)\n",
    "print(\"อยู่ในกลุ่มสายพันธุ์ : \",iris_dataset[\"target_names\"][pred])\n"
   ]
  },
  {
   "cell_type": "code",
   "execution_count": 31,
   "metadata": {},
   "outputs": [
    {
     "name": "stdout",
     "output_type": "stream",
     "text": [
      "              precision    recall  f1-score   support\n",
      "\n",
      "      setosa       1.00      1.00      1.00        16\n",
      "  versicolor       0.92      0.96      0.94        23\n",
      "   virginica       0.95      0.90      0.93        21\n",
      "\n",
      "    accuracy                           0.95        60\n",
      "   macro avg       0.96      0.95      0.95        60\n",
      "weighted avg       0.95      0.95      0.95        60\n",
      "\n",
      "ความแม่นยำ =  0.95\n"
     ]
    }
   ],
   "source": [
    "print(classification_report(y_test,pred,target_names = iris_dataset[\"target_names\"]))\n",
    "print(\"ความแม่นยำ = \",accuracy_score(y_test,pred))"
   ]
  }
 ],
 "metadata": {
  "interpreter": {
   "hash": "fda75b26b5b89e627ff9e941ca952371f5578bd9249dbb144398f26762006e85"
  },
  "kernelspec": {
   "display_name": "Python 3.9.7 64-bit",
   "language": "python",
   "name": "python3"
  },
  "language_info": {
   "codemirror_mode": {
    "name": "ipython",
    "version": 3
   },
   "file_extension": ".py",
   "mimetype": "text/x-python",
   "name": "python",
   "nbconvert_exporter": "python",
   "pygments_lexer": "ipython3",
   "version": "3.9.7"
  },
  "orig_nbformat": 4
 },
 "nbformat": 4,
 "nbformat_minor": 2
}
