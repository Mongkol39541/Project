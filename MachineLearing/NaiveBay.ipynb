{
 "cells": [
  {
   "cell_type": "code",
   "execution_count": 4,
   "metadata": {},
   "outputs": [
    {
     "name": "stdout",
     "output_type": "stream",
     "text": [
      "Accuracy :  0.9473684210526315\n"
     ]
    }
   ],
   "source": [
    "from sklearn.datasets import load_iris\n",
    "from sklearn.model_selection import train_test_split\n",
    "from sklearn.naive_bayes import GaussianNB\n",
    "from sklearn.metrics import accuracy_score\n",
    "\n",
    "#load dataset\n",
    "iris = load_iris()\n",
    "\n",
    "#assign attribute, target\n",
    "x = iris[\"data\"]\n",
    "y = iris[\"target\"]\n",
    "\n",
    "#train, test\n",
    "x_train,x_test,y_train,y_test = train_test_split(x,y)\n",
    "\n",
    "#model\n",
    "model = GaussianNB()\n",
    "\n",
    "#train\n",
    "model.fit(x_train,y_train)\n",
    "\n",
    "#prediction\n",
    "y_pred = model.predict(x_test)\n",
    "\n",
    "#Accuracy Score\n",
    "print(\"Accuracy : \",accuracy_score(y_test,y_pred))"
   ]
  }
 ],
 "metadata": {
  "kernelspec": {
   "display_name": "Python 3",
   "language": "python",
   "name": "python3"
  },
  "language_info": {
   "codemirror_mode": {
    "name": "ipython",
    "version": 3
   },
   "file_extension": ".py",
   "mimetype": "text/x-python",
   "name": "python",
   "nbconvert_exporter": "python",
   "pygments_lexer": "ipython3",
   "version": "3.7.9 (tags/v3.7.9:13c94747c7, Aug 17 2020, 16:30:00) [MSC v.1900 64 bit (AMD64)]"
  },
  "orig_nbformat": 4,
  "vscode": {
   "interpreter": {
    "hash": "822993cc2de8065dd07929654093e8c6598914b15835bcfeccbcac84530d789c"
   }
  }
 },
 "nbformat": 4,
 "nbformat_minor": 2
}
