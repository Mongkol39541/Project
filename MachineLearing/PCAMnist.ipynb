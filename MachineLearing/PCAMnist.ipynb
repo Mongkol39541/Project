{
 "cells": [
  {
   "cell_type": "code",
   "execution_count": 22,
   "metadata": {},
   "outputs": [],
   "source": [
    "from sklearn.model_selection import train_test_split\n",
    "from sklearn.decomposition import PCA\n",
    "from scipy.io import loadmat\n",
    "import matplotlib.pyplot as plt"
   ]
  },
  {
   "cell_type": "code",
   "execution_count": 25,
   "metadata": {},
   "outputs": [],
   "source": [
    "mnist_raw = loadmat(\"mnist-original.mat\")\n",
    "mnist={\n",
    "    \"data\":mnist_raw[\"data\"].T,\n",
    "    \"target\":mnist_raw[\"label\"][0]\n",
    "}\n",
    "x_train,x_test,y_train,y_test = train_test_split(mnist[\"data\"],mnist[\"target\"],random_state=0)\n",
    "\n",
    "pca = PCA(.95)"
   ]
  },
  {
   "cell_type": "code",
   "execution_count": 30,
   "metadata": {},
   "outputs": [
    {
     "data": {
      "image/png": "[encoded data removed]",
      "text/plain": [
       "<Figure size 576x288 with 2 Axes>"
      ]
     },
     "metadata": {
      "needs_background": "light"
     },
     "output_type": "display_data"
    },
    {
     "name": "stdout",
     "output_type": "stream",
     "text": [
      "(52500, 154)\n",
      "(52500, 784)\n"
     ]
    }
   ],
   "source": [
    "data = pca.fit_transform(x_train)\n",
    "result = pca.inverse_transform(data)\n",
    "#show image\n",
    "plt.figure(figsize=(8,4))\n",
    "#image feature 784\n",
    "plt.subplot(1,2,1)\n",
    "plt.imshow(mnist[\"data\"][0].reshape(28,28),cmap=plt.cm.gray,interpolation=\"nearest\")\n",
    "plt.xlabel(\"784 Features\")\n",
    "plt.title(\"Original\")\n",
    "#image feature 95%\n",
    "plt.subplot(1,2,2)\n",
    "plt.imshow(result[0].reshape(28,28),cmap=plt.cm.gray,interpolation=\"nearest\")\n",
    "plt.xlabel(\"154 Features\")\n",
    "plt.title(\"PCA\")\n",
    "plt.show()\n",
    "print(data.shape)\n",
    "print(result.shape)"
   ]
  }
 ],
 "metadata": {
  "kernelspec": {
   "display_name": "Python 3",
   "language": "python",
   "name": "python3"
  },
  "language_info": {
   "codemirror_mode": {
    "name": "ipython",
    "version": 3
   },
   "file_extension": ".py",
   "mimetype": "text/x-python",
   "name": "python",
   "nbconvert_exporter": "python",
   "pygments_lexer": "ipython3",
   "version": "3.7.9 (tags/v3.7.9:13c94747c7, Aug 17 2020, 16:30:00) [MSC v.1900 64 bit (AMD64)]"
  },
  "orig_nbformat": 4,
  "vscode": {
   "interpreter": {
    "hash": "822993cc2de8065dd07929654093e8c6598914b15835bcfeccbcac84530d789c"
   }
  }
 },
 "nbformat": 4,
 "nbformat_minor": 2
}
